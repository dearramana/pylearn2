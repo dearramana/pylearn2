{
 "metadata": {
  "name": ""
 },
 "nbformat": 3,
 "nbformat_minor": 0,
 "worksheets": [
  {
   "cells": [
    {
     "cell_type": "code",
     "collapsed": false,
     "input": [
      "import theano\n",
      "print theano.config.device"
     ],
     "language": "python",
     "metadata": {},
     "outputs": []
    },
    {
     "cell_type": "code",
     "collapsed": true,
     "input": [
      "import os\n",
      "import numpy\n",
      "import pylearn2\n",
      "from pylearn2.utils import serial\n",
      "from pylearn2.utils import sharedX\n",
      "from make_random_dataset import ImagePairs\n",
      "\n",
      "dataset = 'random'\n",
      "transformation = 'shifts'\n",
      "region = 13\n",
      "channels = 1\n",
      "batch_size = 100\n",
      "\n",
      "params = {'save_path' : '.',\n",
      "          'max_epochs' : 150,\n",
      "          'batch_size' : batch_size,\n",
      "          'recepF' : region,\n",
      "          'train_data' : 'train_preprocessed.pkl',\n",
      "          'nvisX' : region*region*channels,\n",
      "          'nvisY' : region*region*channels,\n",
      "          'nfac' : 169,\n",
      "          'nmap' : 50,\n",
      "          'lr' : 0.01}\n",
      "\n",
      "with open(os.path.join('.', 'gae_random.yaml'), 'r') as f:\n",
      "    train = f.read()\n",
      "train = train %params\n",
      "print train"
     ],
     "language": "python",
     "metadata": {},
     "outputs": []
    },
    {
     "cell_type": "code",
     "collapsed": false,
     "input": [
      "from pylearn2.config import yaml_parse\n",
      "train = yaml_parse.load(train)\n",
      "train.main_loop()"
     ],
     "language": "python",
     "metadata": {},
     "outputs": []
    },
    {
     "cell_type": "code",
     "collapsed": false,
     "input": [],
     "language": "python",
     "metadata": {},
     "outputs": []
    }
   ],
   "metadata": {}
  }
 ]
}